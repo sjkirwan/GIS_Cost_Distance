{
 "cells": [
  {
   "cell_type": "markdown",
   "metadata": {},
   "source": [
    "# **Creating a Global Friction Surface Using QGIS**"
   ]
  },
  {
   "cell_type": "markdown",
   "metadata": {},
   "source": [
    "## Intro\n",
    "\n",
    "This guide will take you through the process of creating a global friction surface for estimating travel times to cities in the 1980s. The goal is to integrate various raster data sources—such as urbanization, shipping lanes, topography, country borders, road networks, and more—into a cohesive friction surface that models the travel time to the nearest urban center from any given location."
   ]
  },
  {
   "cell_type": "markdown",
   "metadata": {},
   "source": [
    "To create the desired friction surface, we identified nine key features that have the greatest impact on travel time. These include Border Crossing Time, Ports, Roads, Railways, Navigable Rivers, Shipping Lanes, Urbanization, Land Cover, and Elevation. After pinpointing these features, we gathered raster data corresponding to the necessary information and transformed each into a distinct friction layer. Below is a table listing all the datasets used in this guide along with their respective uses.\n"
   ]
  },
  {
   "cell_type": "markdown",
   "metadata": {},
   "source": [
    "| Use                     | Description                                      | Link                                                                 |\n",
    "|-------------------------|--------------------------------------------------|----------------------------------------------------------------------|\n",
    "| Border Crossing Time    | Shapefile of all country borders                 | [ne_50m_admin_0_boundary_lines_land](https://github.com/nvkelso/natural-earth-vector/blob/master/50m_cultural/ne_50m_admin_0_boundary_lines_land.shp) |\n",
    "| Border Crossing Time    | Shapefile of all Continents                      | [Continent_raster](Continent_raster.tif)                                         |\n",
    "| World Map               | World Map                                        | [international.ipums.org](https://international.ipums.org/international/gis.shtml)      |\n",
    "| Port Data               | Port Data                                        | [World Port Index](https://fgmod.nga.mil/apps/WPI-Viewer/)                       |\n",
    "| Road Network            | Road Network                                     | [hgl.harvard.edu](https://hgl.harvard.edu/catalog/harvard-dcw-rd-line)          |\n",
    "| Railway Network         | Railway Network                                  | [hgl.harvard.edu](https://hgl.harvard.edu/catalog/harvard-dcw-rr-line)          |\n",
    "| Navigable Rivers        | Navigable Rivers                                 | [gaia.edu](http://gaia.geosci.unc.edu/rivers/)                           |\n",
    "| Major Water Bodies      | Major Water Bodies                               | [worldwildlife.org](https://www.worldwildlife.org/pages/global-lakes-and-wetlands-database) |\n",
    "| Shipping Lanes          | Shipping Lanes                                   | [Stanford Digital Repository](https://purl.stanford.edu/zv735jp7944)                        |\n",
    "| National Borders (Current) | National Borders (Current)                   | [natural-earth-vector](https://github.com/nvkelso/natural-earth-vector/blob/master/50m_cultural/ne_50m_admin_0_boundary_lines_land.shp) |\n",
    "| Degree of Urbanization  | Degree of Urbanization                           | [jeodpp.jrc.ec.europa.eu](https://jeodpp.jrc.ec.europa.eu/ftp/jrc-opendata/GHSL/GHS_SMOD_GLOBE_R2023A/GHS_SMOD_E1980_GLOBE_R2023A_54009_1000/V1-0/) |\n",
    "| Land Cover              | Land Cover                                       | [jeodpp.jrc.ec.europa.eu](https://forobs.jrc.ec.europa.eu/glc2000/data)                 |\n",
    "| Elevation               | Elevation                                        | [usgs.gov](https://www.usgs.gov/centers/eros/science/usgs-eros-archive-digital-elevation-global-30-arc-second-elevation-gtopo30?qt-science_center_objects=0#qt-science_center_objects) |\n",
    "\n"
   ]
  },
  {
   "cell_type": "markdown",
   "metadata": {},
   "source": [
    "---"
   ]
  },
  {
   "cell_type": "markdown",
   "metadata": {},
   "source": [
    "# **Part 1: Upload World Map**"
   ]
  },
  {
   "cell_type": "markdown",
   "metadata": {},
   "source": [
    "### Step 1: Upload the World Map shapefile \n",
    "- **Objective**: Load the shapefile for the World Map  into QGIS.\n",
    "  - Open QGIS, then use the **'Add Vector Layer'** tool to load the shapefile containing the country borders.\n",
    "\n",
    "### Step 2: Reproject the World Map Vector\n",
    "- **Objective**: Reproject the World Map vector layer into the WGS 84 projection (EPSG:4326).\n",
    "  - Open the **'Reproject Layer'** tool from the Processing Toolbox.\n",
    "  - In the **Input Layer** field, select the World Map vector.\n",
    "  - In the **Target CRS**, choose **EPSG:4326 - WGS 84** to ensure consistency with the Mercator projection you're using.\n",
    "Click ‘Run’ \n"
   ]
  },
  {
   "cell_type": "markdown",
   "metadata": {},
   "source": [
    "---\n",
    "---"
   ]
  },
  {
   "cell_type": "markdown",
   "metadata": {},
   "source": [
    "# **Part 2: Make 1km x 1km grid**\n"
   ]
  },
  {
   "cell_type": "markdown",
   "metadata": {},
   "source": [
    "### Step 1: Create 1km x 1km grid\n",
    "- **Objective**: Set the standard grid that all raster resolutions will be based on.\n",
    "  - QGIS Toolbox: Search for “Create Grid”.\n",
    "  - Grid Type: Rectangle.\n",
    "  - Grid Extent: World Map."
   ]
  },
  {
   "cell_type": "markdown",
   "metadata": {},
   "source": [
    "---"
   ]
  },
  {
   "cell_type": "markdown",
   "metadata": {},
   "source": [
    "### Code"
   ]
  },
  {
   "cell_type": "code",
   "execution_count": null,
   "metadata": {},
   "outputs": [],
   "source": [
    "processing.run(\"native:creategrid\", {'TYPE':2,'EXTENT':'-180.000000000,180.000000000,-89.999983420,83.633392334 [EPSG:4326]','HSPACING':0.033333,'VSPACING':0.033333,'HOVERLAY':0,'VOVERLAY':0,'CRS':QgsCoordinateReferenceSystem('EPSG:4326'),'OUTPUT':'TEMPORARY_OUTPUT'})"
   ]
  },
  {
   "cell_type": "markdown",
   "metadata": {},
   "source": [
    "---\n",
    "---"
   ]
  },
  {
   "cell_type": "markdown",
   "metadata": {},
   "source": [
    "# **Part 3: Individual Trasformations of the Ratser Data**"
   ]
  },
  {
   "cell_type": "markdown",
   "metadata": {},
   "source": [
    "# 1. Border Crossing Time Calculation\n",
    "\n",
    "This guide outlines how to calculate border crossing times by assigning friction weights to borders based on continent-level analysis. We will reproject the continent raster and rasterize the country borders to represent the time it takes to cross borders. This simplified approach helps to account for over 80 countries efficiently.\n",
    "\n",
    "## Step-by-Step Process\n",
    "\n",
    "### Step 1: Open Shapefiles\n",
    "- **Objective**: Load the shapefile for all country borders and all continents into QGIS.\n",
    "  - Open QGIS, then use the **'Add Vector Layer'** tool to load the shapefile containing the country borders.\n",
    "  - Similarly, load the shapefile containing the continents layer.\n",
    "\n",
    "### Step 2: Reproject the Continent Raster\n",
    "- **Objective**: Reproject the continent raster layer into the WGS 84 projection (EPSG:4326).\n",
    "  - Open the **'Warp (Reproject)'** tool from the Processing Toolbox.\n",
    "  - In the **Input Layer** field, select the continent raster.\n",
    "  - In the **Target CRS**, choose **EPSG:4326 - WGS 84** to ensure consistency with the Mercator projection you're using.\n",
    "\n",
    "### Step 3: Change the Resolution\n",
    "- **Objective**: have the borders in one kilometer pixel resolution\n",
    "  - Open the **r.resample** tool from the Processing Toolbox.\n",
    "  - In the **Input Layer** field, select the reprojected continent raster.\n",
    "  - Set the **GRASS GIS 7** region cellsize to 0.008333\n",
    "\n",
    "### Step 4: Convert Country Borders to Raster\n",
    "- **Objective**: Convert the country borders vector layer (line geometry) into a raster format.\n",
    "  - Open the **'Rasterize (Vector to Raster)'** tool from the Processing Toolbox.\n",
    "  - In the **Input Layer**, select the country borders layer.\n",
    "  - Set both **Width/Horizontal resolution** and **Height/Vertical resolution** to **0.00833** to create a raster with appropriate resolution.\n",
    "  - This step converts vector country boundaries into a grid format, where each pixel will represent a specific area.\n",
    "\n",
    "### Step 5: Fill Null Values in Raster\n",
    "- **Objective**: Ensure all NULL values in the raster are filled appropriately.\n",
    "  - Open the **'Fill Data'** tool from the Processing Toolbox.\n",
    "  - In the **Input Layer** select the newly made raster border file\n",
    "  - Set the **Fill Value** attribute to **0** \n",
    "\n",
    "### Step 6: Modify Border Raster with a Distinct Values\n",
    "- **Objective**: Assign a new value to the modified border raster to help with later calculations.\n",
    "  - In the **Input Layer** select the newly filled raster border file\n",
    "  - Open the **'Raster Calculator'** from the Processing Toolbox.\n",
    "  - In the calculator, use the formula:\n",
    "    ``` \n",
    "    (\"guide_border_fill@1\" = 1) * 0.5\n",
    "    ```\n",
    "    - This assigns a friction weight (0.5) to the areas of the border raster that have value 1, representing the country borders.\n",
    "  - Save the output as **'halved_modified_borders'** to preserve this modified raster.\n",
    "\n",
    "### Step 7: Calculate the Difference Between Continent and Border Rasters\n",
    "- **Objective**: Subtract the modified border raster from the continent raster to identify differences, so that each border has a unqiue value cooresponding to its continent.\n",
    "  - Open the **'Raster Calculator'** again.\n",
    "  - Use the formula:\n",
    "    ``` \n",
    "    \"Continent_raster@1\" - \"guide_border_fill@1\"\n",
    "    ```\n",
    "  - This operation will highlight the differences between the continent raster and the border data, which can then be used to calculate border crossing times.\n",
    "  - Save the output as **'continent_border_diff'**.\n",
    "\n",
    "### Step 8: Assign Friction Weights Based on Border Differences\n",
    "- **Objective**: Assign specific friction weights based on the values in the **'continent_border_diff'** raster.\n",
    "  - Open the **'Raster Calculator'** once more.\n",
    "  - Use the following formula to assign specific friction values based on the differences between continents and borders:\n",
    "    C \n",
    "    (\"continent_border_diff@1\" = 0.5) * 0.115 (.0087) (80) + \n",
    "    (\"continent_border_diff@1\" = 1.5) * 0.075 (.013.33) (55)+ \n",
    "    (\"continent_border_diff@1\" = 2.5) * 0.075 (.013.33) (55)+ \n",
    "    (\"continent_border_diff@1\" = 3.5) * 0.06 (.016.67) (45)+ \n",
    "    (\"continent_border_diff@1\" = 4.5) * 0.075 (013.33) (55)+ \n",
    "    (\"continent_border_diff@1\" = 5.5) * 0.055 (18.19)+ (40)\n",
    "    (\"continent_border_diff@1\" = 6.5) * 0.075 (13.33) (55)+ \n",
    "    (\"continent_border_diff@1\" = 7.5) * 0.035 (28.57) (30)\n",
    "    ```\n",
    "    - This formula assigns different friction weights based on the values found in **'continent_border_diff'**. The weights (e.g., 0.115, 0.075) represent time values (minutes per meter) associated with different levels of border difficulty.\n",
    "\n",
    "\n",
    "| Continent       | Friction Weight | Description | Explanation |\n",
    "|-----------------|-----------------|-------------|-------------|\n",
    "| Africa          | 80 Min/km | [\"Land Transport for Export: The Effects of Cost, Time, and Uncertainty in Sub-Saharan Africa\"]() and [\"Mapping travel time to assess accessibility in West Africa: The role of borders, checkpoints and road conditions\"]() | High friction due to poor infrastructure, numerous checkpoints, and complex border procedures. |\n",
    "| Asia            | 55 Min/km| [ITF Southeast Asia Transport Outlook](https://www.itf-oecd.org/sites/default/files/docs/itf-southeast-asia-outlook.pdf), [TRADE IMPACT OF REDUCING TIME AND COSTS AT BORDERS IN THE CENTRAL ASIA REGIONAL ECONOMIC COOPERATION REGION](https://www.adb.org/sites/default/files/publication/575606/adbi-wp1106.pdf) | Moderate friction due to varying infrastructure quality and border management efficiency. |\n",
    "| Europe          | 45 Min/km| [Abstract from latest IRU Working Papers on Road Border Crossing Improvements](https://www.iru.org/sites/default/files/2016-01/en-krauss-bwto.pdf) | Lower friction due to well-developed infrastructure and streamlined border procedures. |\n",
    "| North America   | 55 Min/km| [horizonsunlimited.com](https://www.horizonsunlimited.com/tripplan/borders/central-america)| Moderate friction due to varying infrastructure quality and border management efficiency. |\n",
    "| Oceania         | 40 Min/km| [Self-reported wait times for the PNG and Indonesian land border](https://www.tripadvisor.com/Attraction_Review-g3411772-d5562474-Reviews-The_Border_Between_PNG_and_West_Papua-Vanimo_Momase_Region.html) | Lower friction due to less congested borders and simpler procedures. |\n",
    "| South America   | 55 Min/km| [advtracks.online](https://advtracks.online/blog/post/19_border-crossings-south-america) | Moderate friction due to varying infrastructure quality and border management efficiency. |\n",
    "\n",
    "### Final Output\n",
    "By following these steps, you’ll convert your country border and continent shapefiles into a raster format, modify the raster with specific friction values, and calculate border crossing times based on these friction values. The final output will provide you with a simplified, continent-level friction map that helps estimate border crossing times across the globe.\n",
    "\n",
    "---\n"
   ]
  },
  {
   "cell_type": "markdown",
   "metadata": {},
   "source": [
    "<div style=\"text-align: center;\">\n",
    "    <p style=\"text-align: center;\">Before Borders Processing</p>\n",
    "    <img src=\"before_borders.png\" alt=\"Before Borders Processing\" width=\"800\"/>  <br> \n",
    "    <img src=\"down-chevron.png\" alt=\"Down Arrow\" width=\"110\"/>  <br> \n",
    "    <p style=\"text-align: center;\">After Borders Processing</p>\n",
    "    <img src=\"borders_end.png\" alt=\"After Borders Processing\" width=\"800\"/>\n",
    "</div>\n"
   ]
  },
  {
   "cell_type": "markdown",
   "metadata": {},
   "source": [
    "### Code"
   ]
  },
  {
   "cell_type": "code",
   "execution_count": null,
   "metadata": {},
   "outputs": [],
   "source": [
    "\n",
    "# Code to turn the country borders from a vector to a raster\n",
    "processing.run(\"gdal:rasterize\", {'INPUT':'[input file path]','FIELD':'','BURN':1,'USE_Z':False,'UNITS':1,'WIDTH':0.008333,'HEIGHT':0.008333,'EXTENT':'-115.967578128,139.498377155,-56.294072926,93.400704263 [EPSG:4326]','NODATA':0,'OPTIONS':'','DATA_TYPE':5,'INIT':None,'INVERT':False,'EXTRA':'','OUTPUT':'C:/Users/samja/Downloads/gudie_raster_borders.tif'})\n",
    "\n",
    "# Code to rescale the raster to the same size as the continent raster\n",
    "processing.run(\"grass7:r.resample\", {'input':'[input file path]','output':'C:/Users/samja/Documents/borders_resampled.tif','GRASS_REGION_PARAMETER':None,'GRASS_REGION_CELLSIZE_PARAMETER':0.008333333333333333,'GRASS_RASTER_FORMAT_OPT':'','GRASS_RASTER_FORMAT_META':''})\n",
    "\n",
    "# Code to fill in the nodata values\n",
    "processing.run(\"native:fillnodata\", {'INPUT':'[input file path]','BAND':1,'FILL_VALUE':0,'OUTPUT':'C:/Users/samja/Downloads/guide_border_fill.tif'})\n",
    "\n",
    "# Code to scale down border value\n",
    "processing.run(\"native:rastercalc\", {'LAYERS':['[input file path]'],'EXPRESSION':'(\"guide_border_fill@1\" = 1) * 0.5','EXTENT':None,'CELL_SIZE':None,'CRS':None,'OUTPUT':'TEMPORARY_OUTPUT'})\n",
    "\n",
    "# Code subtract borders from continent raster so that each border has a unqiue value based on continet\n",
    "processing.run(\"native:rastercalc\", {'LAYERS':['[input file path]','[input file path]'],'EXPRESSION':'\"Continent_raster@1\"-\"guide_border_fill@1\"','EXTENT':None,'CELL_SIZE':None,'CRS':None,'OUTPUT':'TEMPORARY_OUTPUT'})\n",
    "\n",
    "# Code to assign friction values to the borders based on the continent\n",
    "processing.run(\"native:rastercalc\", {'LAYERS':['[input file path]'],'EXPRESSION':'(\"continent_border_diff\" = 0.5) * 0.115 + (\"continent_border_diff\" = 1.5) * 0.075 + (\"continent_border_diff\" = 2.5) * 0.075 + (\"continent_border_diff\" = 3.5) * 0.06 + (\"continent_border_diff\" = 4.5) * 0.075 + (\"continent_border_diff\" = 5.5) * 0.055 + (\"continent_border_diff\" = 6.5) * 0.075 +(\"continent_border_diff\" = 7.5) * 0.035','EXTENT':None,'CELL_SIZE':None,'CRS':None,'OUTPUT':'TEMPORARY_OUTPUT'})"
   ]
  },
  {
   "cell_type": "markdown",
   "metadata": {},
   "source": [
    "---"
   ]
  },
  {
   "cell_type": "markdown",
   "metadata": {},
   "source": [
    "## 2. Shipping lane friction calculation"
   ]
  },
  {
   "cell_type": "markdown",
   "metadata": {},
   "source": [
    "### Step 1: Open Shapefiles\n",
    "- **Objective**: Load the shapefile for shipping lanes in QGIS.\n",
    "  - Open QGIS, then use the **'Add Vector Layer'** tool to load the shapefile containing shipping lanes.\n",
    "\n",
    "### Step 2: Reproject the Shipping Lane Raster\n",
    "- **Objective**: Reproject the shipping lane raster layer into the WGS 84 projection (EPSG:4326).\n",
    "  - Open the **'Warp (Reproject)'** tool from the Processing Toolbox.\n",
    "  - In the **Input Layer** field, select the shipping lane raster.\n",
    "  - In the **Target CRS**, choose **EPSG:4326 - WGS 84** to ensure consistency with the Mercator projection you're using.\n",
    "  - Run the following code:\n",
    "    ```\n",
    "    processing.run(\"gdal:warpreproject\", {'INPUT':'/vsizip/C:/Users/samja/Downloads/raw_2013_shipping_mol_20150714094045.zip/shipping.tif','SOURCE_CRS':QgsCoordinateReferenceSystem('ESRI:54009'),'TARGET_CRS':QgsCoordinateReferenceSystem('EPSG:4326'),'RESAMPLING':0,'NODATA':None,'TARGET_RESOLUTION':None,'OPTIONS':'','DATA_TYPE':0,'TARGET_EXTENT':None,'TARGET_EXTENT_CRS':None,'MULTITHREADING':False,'EXTRA':'','OUTPUT':'C:/Users/samja/OneDrive/Documents/shipping_reprojection.tif'})\n",
    "    ```\n",
    "\n",
    "### Step 3: Binarize the Shipping Lane Raster\n",
    "- **Objective**: Binarize the shipping lanes so that only shipping lanes that receive above a threshold amount of traffic show up.\n",
    "  - Open the **'Raster Calculator'** tool from the Processing Toolbox.\n",
    "  - In the **Input Layer** field, select the reprojected shipping lane raster.\n",
    "  - Enter the following expression:\n",
    "    ```\n",
    "    (\"shipping@1\" < 0.3) * 1 + (\"shipping@1\" >= 0.3) * 0\n",
    "    ```\n",
    "\n",
    "### Step 4: Assign a Friction Value\n",
    "- **Objective**: Assign a value to the shipping lanes that represents the cost to travel.\n",
    "  - Open the **'Raster Calculator'** tool from the Processing Toolbox.\n",
    "  - In the **Input Layer** field, select the binarized shipping lane raster.\n",
    "  - Enter the following expression:\n",
    "    ```\n",
    "    (\"shipping@1\" <= 0) * 0 + (\"shipping@1\" >= 1) * 0.02\n",
    "    ```\n",
    "\n",
    "\n"
   ]
  },
  {
   "cell_type": "markdown",
   "metadata": {},
   "source": [
    "---"
   ]
  },
  {
   "cell_type": "markdown",
   "metadata": {},
   "source": [
    "<div style=\"text-align: center;\">\n",
    "    <p style=\"text-align: center;\">Before Shipping Lane Processing</p>\n",
    "    <img src=\"Pre_Shipping_Lanes.png\" alt=\"Image Description\" width=\"1000\"/> <br> \n",
    "    <img src=\"down-chevron.png\" alt=\"Image Description\" width=\"110\"/>  <br>\n",
    "    <p style=\"text-align: center;\">After Shipping Lane Processing</p>\n",
    "    <img src=\"Reduced_Shipping.png\" alt=\"Image Description\" width=\"1000\"/>\n",
    "</div>"
   ]
  },
  {
   "cell_type": "markdown",
   "metadata": {},
   "source": [
    "### Code"
   ]
  },
  {
   "cell_type": "code",
   "execution_count": null,
   "metadata": {},
   "outputs": [],
   "source": [
    "# Code to reproject\n",
    "processing.run(\"gdal:warpreproject\", {'INPUT':'[input file path]','SOURCE_CRS':QgsCoordinateReferenceSystem('ESRI:54009'),'TARGET_CRS':QgsCoordinateReferenceSystem('EPSG:4326'),'RESAMPLING':0,'NODATA':None,'TARGET_RESOLUTION':None,'OPTIONS':'','DATA_TYPE':0,'TARGET_EXTENT':None,'TARGET_EXTENT_CRS':None,'MULTITHREADING':False,'EXTRA':'','OUTPUT':'C:/Users/samja/OneDrive/Documents/shipping_reprojection.tif'})\n",
    "# Code to binarize shipping\n",
    "processing.run(\"native:rastercalc\", {'LAYERS':['[input file path]'],'EXPRESSION':'\"shipping@1\" >= 0.4 * 1 +\"shipping@1\" < 0.4 * 1','EXTENT':None,'CELL_SIZE':None,'CRS':None,'OUTPUT':'C:/Users/samja/Downloads/Shipping_binary.tif'})\n",
    "# Code to assign friction values to shipping\n",
    "processing.run(\"native:rastercalc\", {'LAYERS':['[input file path]'],'EXPRESSION':'\"shipping@1\" >= 0.4 * 1 +\"shipping@1\" < 0.4 * 1','EXTENT':None,'CELL_SIZE':None,'CRS':None,'OUTPUT':'C:/Users/samja/Downloads/Shipping_binary.tif'})"
   ]
  },
  {
   "cell_type": "markdown",
   "metadata": {},
   "source": [
    "---"
   ]
  },
  {
   "cell_type": "markdown",
   "metadata": {},
   "source": [
    "## 3. Urban Zone friction calculation"
   ]
  },
  {
   "cell_type": "markdown",
   "metadata": {},
   "source": [
    "### Step 1: Open Shapefiles\n",
    "- **Objective**: Load the shapefile for shipping lanes in QGIS.\n",
    "  - Open QGIS, then use the **'Add Vector Layer'** tool to load the shapefile containing a raster with urban classifications.\n",
    "\n",
    "### Step 2: Reproject the Urban Classification Raster\n",
    "- **Objective**: Reproject the shipping lane raster layer into the WGS 84 projection (EPSG:4326).\n",
    "  - Open the **'Warp (Reproject)'** tool from the Processing Toolbox.\n",
    "  - In the **Input Layer** field, select the urban classifications raster.\n",
    "  - In the **Target CRS**, choose **EPSG:4326 - WGS 84** to ensure consistency with the Mercator projection you're using.\n",
    "  - Run the following code:\n",
    "    ```\n",
    "    processing.run(\"gdal:warpreproject\", {'INPUT':'/vsizip/C:/Users/samja/Downloads/raw_2013_shipping_mol_20150714094045.zip/shipping.tif','SOURCE_CRS':QgsCoordinateReferenceSystem('ESRI:54009'),'TARGET_CRS':QgsCoordinateReferenceSystem('EPSG:4326'),'RESAMPLING':0,'NODATA':None,'TARGET_RESOLUTION':None,'OPTIONS':'','DATA_TYPE':0,'TARGET_EXTENT':None,'TARGET_EXTENT_CRS':None,'MULTITHREADING':False,'EXTRA':'','OUTPUT':'C:/Users/samja/OneDrive/Documents/shipping_reprojection.tif'})\n",
    "    ```\n",
    "\n",
    "### Step 3: Binarize the Cities from other Urban Classification\n",
    "- **Objective**: Binarize the urban classification so that only the most dense urbana zones show up.\n",
    "  - Open the **'Raster Calculator'** tool from the Processing Toolbox.\n",
    "  - In the **Input Layer** field, select the reprojected urban classification raster.\n",
    "  - Enter the following expression:\n",
    "    ```\n",
    "    (\"Urban_Classification@1\" >= 6) * 1 + (\"Urban_Classification@1\" < 6) * 0\n",
    "    ```\n",
    "\n",
    "### Step 4: Assign a Friction Value\n",
    "- **Objective**: Assign a value to the shipping lanes that represents the cost to travel.\n",
    "  - Open the **'Raster Calculator'** tool from the Processing Toolbox.\n",
    "  - In the **Input Layer** field, select the binarized shipping lane raster.\n",
    "  - Enter the following expression:\n",
    "    ```\n",
    "    (\"Urban_Classification@1\" <= 0) * 0 + (\"Urban_Classification@1\" >= 1) * 0.1\n",
    "    ```\n",
    "\n",
    "\n"
   ]
  },
  {
   "cell_type": "markdown",
   "metadata": {},
   "source": [
    "<div style=\"text-align: center;\">\n",
    "    <p style=\"text-align: center;\">Urban Zones</p>\n",
    "    <img src=\"Urban_Zones_PNG.png\" alt=\"Urban Zones\" width=\"800\"/> <br> \n",
    "    <img src=\"down-chevron.png\" alt=\"Down Arrow\" width=\"110\"/>  <br> \n",
    "    <p style=\"text-align: center;\">Only Urban Areas</p>\n",
    "    <img src=\"Only_Urban.png\" alt=\"Only Urban Areas\" width=\"800\"/>\n",
    "</div>"
   ]
  },
  {
   "cell_type": "markdown",
   "metadata": {},
   "source": [
    "---"
   ]
  },
  {
   "cell_type": "markdown",
   "metadata": {},
   "source": [
    "## 4. Upload and Reproject Road Network, Railway, and Navigable Rivers\n"
   ]
  },
  {
   "cell_type": "markdown",
   "metadata": {},
   "source": [
    "### Goal: Upload and Reproject Port Data, Road Network, Railway, Navigable Rivers, and Major Water Bodies\n",
    "\n",
    "### Step 1: Open Shapefiles\n",
    "- **Objective**: Load the shapefiles into QGIS.\n",
    "    - Open QGIS, then use the **'Add Vector Layer'** tool to load the shapefile containing the above datasets.\n",
    "\n",
    "### Step 2: Reproject the Port Data, Road Network, Railway, Navigable Rivers, and Major Water Bodies\n",
    "- **Objective**: Reproject the Port Data, Road Network, Railway, Navigable Rivers, and Major Water Bodies vector layers into the WGS 84 projection (EPSG:4326).\n",
    "    - Open the **'Reproject Layer'** tool from the Processing Toolbox.\n",
    "    - In the **Input Layer** field, select the layer you intend to reproject.\n",
    "    - In the **Target CRS**, choose **EPSG:4326 - WGS 84** to ensure consistency with the Mercator projection you're using.\n",
    "    - Click ‘Run’.\n",
    "    - Rename the reprojected layer to “Filename_Rep” to indicate that it has been reprojected.\n",
    "    - Repeat for all five layers.\n",
    "\n",
    "Example for European Rivers:\n",
    "```python\n",
    "processing.run(\"native:reprojectlayer\", {'INPUT':'/Users/hollyzhang/Documents/QGIS Downloads/europe/eurivs.shp','TARGET_CRS':QgsCoordinateReferenceSystem('EPSG:4326'),'CONVERT_CURVED_GEOMETRIES':False,'OPERATION':'+proj=noop','OUTPUT':'TEMPORARY_OUTPUT'})\n",
    "```\n",
    "\n",
    "### Step 3: Rasterize Road Network, Railway, Navigable Rivers, and Major Water Bodies\n",
    "- **Objective**: Convert the vector layers into raster format for further analysis.\n",
    "    - Find the “Vector to Raster” function in the QGIS processing toolbox.\n",
    "    - Select the reprojected layer you want to rasterize as the input layer.\n",
    "    - Set “Output raster size units” to “Georeferenced units”.\n",
    "    - Set “Width/Horizontal Resolution” and “Height/Vertical Resolution” to 0.033333.\n",
    "    - Set “Output Extent” to your World Map layer.\n",
    "    - Click “Run”.\n",
    "    - Rename the rasterized layer to indicate that it has been rasterized.\n",
    "\n",
    "### Step 4: Assign Travel Speeds to Each Layer\n",
    "- **Objective**: Assign travel speeds to each raster layer to represent the cost of travel.\n",
    "    - Open “Raster Calculator” from the processing toolbox.\n",
    "    - Select the appropriate rasterized input layer.\n",
    "    - Paste the corresponding expression into “Expression”:\n",
    "\n",
    "| Layer                | Travel Speed               |\n",
    "|----------------------|----------------------------|\n",
    "| Road Network         | Motorways, 120km/hr = 0.5 min per km; Major roads, 60km/hr = 1 min per km; Tracks, 10km/hr = 6 min per km |\n",
    "| Railway              | 40 km/hr = 1.5 min per km  |\n",
    "| Navigable Rivers     | 20km/hr = 3 min per km     |\n",
    "| Major Water Bodies   | 20km/hr = 3 min per km     |\n",
    "\n",
    "Expressions:\n",
    "    - Road Network: `(\"Road_Network_Rasterized\" = 1) * 1`\n",
    "    - Railway: `(\"Railway_Rasterized\" = 1) * 40`\n",
    "    - Navigable Rivers: `(\"Navigable_Rivers_Rasterized\" = 1) * 20`\n",
    "    - Major Water Bodies: `(\"Major_Water_Bodies_Rasterized\" = 1) * 20`"
   ]
  },
  {
   "cell_type": "markdown",
   "metadata": {},
   "source": [
    "---\n",
    "---"
   ]
  },
  {
   "cell_type": "markdown",
   "metadata": {},
   "source": [
    "# **Part 4: Combining all processed rasters into one friction layer**"
   ]
  },
  {
   "cell_type": "markdown",
   "metadata": {},
   "source": [
    "### Step 1: Use the Merge Tool\n",
    "- **Objective**: Combine multiple raster layers into a single raster layer using the minimum value at each pixel location.\n",
    "    - Open QGIS, then use the **'Raster Calculator'** tool from the Processing Toolbox.\n",
    "    - In the **Input Layers** field, select two of the raster layers you want to merge.\n",
    "        - Border Crossing Time\n",
    "        - Shipping Lanes\n",
    "        - Urban Zones\n",
    "        - Road Network\n",
    "        - Railway Network\n",
    "        - Navigable Rivers\n",
    "        - Major Water Bodies\n",
    "    - In the calculate enter MIN(Raster_layer1, Raster_layer2)\n",
    "    - Click **Run** to execute the merge process.\n",
    "    - Repeat this process by merging an additional layer to the previous output of the Raster Calculator.\n",
    "\n"
   ]
  },
  {
   "cell_type": "markdown",
   "metadata": {},
   "source": [
    "### Code"
   ]
  },
  {
   "cell_type": "code",
   "execution_count": null,
   "metadata": {},
   "outputs": [],
   "source": [
    "processing.run(\"native:rastercalc\", {'LAYERS':['[input layer one]','[input layer one]'],'EXPRESSION':'MIN (\"Shipping_binary_4@1\",\"urban_presentation@1\")','EXTENT':None,'CELL_SIZE':None,'CRS':QgsCoordinateReferenceSystem('ESRI:54009'),'OUTPUT':'TEMPORARY_OUTPUT'})"
   ]
  },
  {
   "cell_type": "markdown",
   "metadata": {},
   "source": [
    "---\n",
    "---"
   ]
  },
  {
   "cell_type": "markdown",
   "metadata": {},
   "source": [
    "# **Part 5: Creating Centroids to Represent Urban Centers**"
   ]
  },
  {
   "cell_type": "markdown",
   "metadata": {},
   "source": [
    "### Step 1: Open Urban Zone Shapefiles\n",
    "- Open QGIS, then use the **'Add Vector Layer'** tool to load the shapefile containing discrete urbanization categories.\n",
    "\n",
    "### Step 2: Binarize Urban Zones\n",
    "- **Objective**: Extract urban centers from population density data.\n",
    "  - Open the **'Raster Calculator'** tool from the Processing Toolbox.\n",
    "  - In the **Input Layer** field, select the urbanization raster.\n",
    "\n",
    "### Step 3: Vectorize the Raster\n",
    "- **Objective**: Convert the binarized urban zones into vector format for further processing.\n",
    "  - Open the **'Polygonize (Raster to Vector)'** tool from the Processing Toolbox.\n",
    "  - In the **Input Layer** field, select the binarized urbanization raster.\n",
    "\n",
    "### Step 4: Calculate Centroids\n",
    "- **Objective**: Determine the centroids of the urban zones to represent urban centers.\n",
    "  - Open the **'Centroids'** tool from the Processing Toolbox.\n",
    "  - In the **Input Layer** field, select the vectorized urban areas.\n",
    "  - Click **Run** to generate the centroids representing urban centers.\n"
   ]
  },
  {
   "cell_type": "markdown",
   "metadata": {},
   "source": [
    "----"
   ]
  },
  {
   "cell_type": "markdown",
   "metadata": {},
   "source": [
    "<div style=\"text-align: center;\">\n",
    "    <p style=\"text-align: center;\">Urban Area Before Centroid Calculation</p>\n",
    "    <img src=\"Only_Urban.png\" alt=\"Only Urban Areas\" width=\"800\"/> <br> \n",
    "    <img src=\"down-chevron.png\" alt=\"Down Arrow\" width=\"110\"/>  <br>\n",
    "    <p style=\"text-align: center;\">Centroids After Centroid Calculation</p>\n",
    "    <img src=\"Urban_centroid_black.png\" alt=\"Urban Centroids\" width=\"800\"/>\n",
    "</div>"
   ]
  },
  {
   "cell_type": "markdown",
   "metadata": {},
   "source": [
    "### Code"
   ]
  },
  {
   "cell_type": "code",
   "execution_count": null,
   "metadata": {},
   "outputs": [],
   "source": [
    "# running the vectorize function\n",
    "processing.run(\"gdal:polygonize\", {'INPUT':'[input file path]','BAND':1,'FIELD':'DN','EIGHT_CONNECTEDNESS':False,'EXTRA':'','OUTPUT':'C:/Users/samja/Documents/only_city_vectorize.gpkg'})\n",
    "# running the centroid function\n",
    "processing.run(\"native:centroids\", {'INPUT':'[input file path]','ALL_PARTS':True,'OUTPUT':'C:/Users/samja/OneDrive/Documents/only_cities_centroids.gpkg'})"
   ]
  },
  {
   "cell_type": "markdown",
   "metadata": {},
   "source": [
    "---\n",
    "---"
   ]
  },
  {
   "cell_type": "markdown",
   "metadata": {},
   "source": [
    "# **Part 5.5: Reduce City Centroids (Optional)**"
   ]
  },
  {
   "cell_type": "markdown",
   "metadata": {},
   "source": [
    "**Note: These steps explain how to reduce the number of city centroids if you don't have access to a powerful computer.**\n",
    "\n",
    "### Step 1: Calculate the Area of Each Urban Zone\n",
    "- **Objective**: Calculate the area of each urban zone vector.\n",
    "  - Open the **Field Calculator** tool from the Processing Toolbox.\n",
    "  - In the **Input Layer** field, select the vectorized binary urbanization raster.\n",
    "  - Under **Field Name**, enter `area`.\n",
    "  - In the expression section, write `$area`.\n",
    "  - Click **Run**.\n",
    "\n",
    "### Step 2: Eliminate Smaller Urban Zones\n",
    "- **Objective**: Remove less significant urban areas by filtering out smaller zones.\n",
    "  - Right-click on the output layer from the last step and select **Open Attribute Table**.\n",
    "  - Click on **Select features using expression**.\n",
    "  - Enter `$area < {your_threshold}`.\n",
    "  - Right-click again on the layer and select **Toggle Editing Mode**.\n",
    "  - Delete all selected features.\n",
    "\n",
    "### Step 3: Calculate Centroids\n",
    "- **Objective**: Determine the centroids of the urban zones to represent urban centers.\n",
    "  - Open the **'Centroids'** tool from the Processing Toolbox.\n",
    "  - In the **Input Layer** field, select the filtered vectorized urban areas.\n",
    "  - Click **Run** to generate the centroids representing urban centers.\n"
   ]
  },
  {
   "cell_type": "markdown",
   "metadata": {},
   "source": [
    "<div style=\"text-align: center;\">\n",
    "    <p style=\"text-align: center;\">Urban Centroids Before Reduction</p>\n",
    "    <img src=\"Urban_centroid_black.png\" alt=\"Urban Centroids Before Reduction\" width=\"800\"/> <br> \n",
    "    <img src=\"down-chevron.png\" alt=\"Down Arrow\" width=\"110\"/>  <br> \n",
    "    <p style=\"text-align: center;\">Urban Centroids After Reduction</p>\n",
    "    <img src=\"urban_centroids_reduced.png\" alt=\"Urban Centroids After Reduction\" width=\"800\"/>\n",
    "</div>"
   ]
  },
  {
   "cell_type": "markdown",
   "metadata": {},
   "source": [
    "### Code"
   ]
  },
  {
   "cell_type": "code",
   "execution_count": null,
   "metadata": {},
   "outputs": [],
   "source": [
    "# step 1\n",
    "processing.run(\"native:fieldcalculator\", {'INPUT':'[input file path]','FIELD_NAME':'area','FIELD_TYPE':0,'FIELD_LENGTH':0,'FIELD_PRECISION':0,'FORMULA':' $area ','OUTPUT':'TEMPORARY_OUTPUT'})\n",
    "# step 3\n",
    "processing.run(\"native:centroids\", {'INPUT':'memory://Polygon?crs=EPSG:4326&field=fid:long(0,0)&field=DN:integer(0,0)&field=area:double(0,0)&uid={1704d9c2-409f-4808-9d02-1c47d9ffdb80}','ALL_PARTS':True,'OUTPUT':'[output file path]'})"
   ]
  },
  {
   "cell_type": "markdown",
   "metadata": {},
   "source": [
    "# **Part 6: Creating the Cost Distance Surface**"
   ]
  },
  {
   "cell_type": "markdown",
   "metadata": {},
   "source": [
    "###  Create the Cost Distance Surface\n",
    "- **Objective**: Generate a cost distance surface using the combined friction layer and urban centroids.\n",
    "  - Install the r.grass extension.\n",
    "  - Open the **'r.cost'** tool from the Processing Toolbox.\n",
    "  - Enter the combined friction layer under the **'Unit Cost Layer'** input.\n",
    "  - Select the centroids as start points.\n",
    "  - Run the tool."
   ]
  },
  {
   "cell_type": "markdown",
   "metadata": {},
   "source": [
    "<div style=\"text-align: center;\">\n",
    "    <p style=\"text-align: center;\">Finished Friction Surface</p>\n",
    "    <img src=\"finished_friction.png\" alt=\"Finished Friction Surface\" width=\"800\"/> \n",
    "    <br>\n",
    "    <img src=\"—Pngtree—plus vector icon_4015245.png\" alt=\"Plus Icon\" width=\"150\" style=\"display: block; margin-left: auto; margin-right: auto;\"/>  \n",
    "    <br>\n",
    "    <p style=\"text-align: center;\">Reduced City Centroids<p>\n",
    "    <img src=\"reduced_cities.png\" alt=\"Reduced City Centroids\" width=\"800\"/> \n",
    "    <br> \n",
    "    <img src=\"down-chevron.png\" alt=\"Down Arrow\" width=\"150\" style=\"display: block; margin-left: auto; margin-right: auto;\"/>  \n",
    "    <br>\n",
    "    <p style=\"text-align: center;\">Cost Distance Surface</p>\n",
    "    <img src=\"Cost_map.png\" alt=\"Cost Distance Surface\" width=\"800\"/>\n",
    "</div>\n"
   ]
  },
  {
   "cell_type": "markdown",
   "metadata": {},
   "source": [
    "### Code"
   ]
  },
  {
   "cell_type": "code",
   "execution_count": null,
   "metadata": {},
   "outputs": [],
   "source": [
    "# running the cost distance function\n",
    "processing.run(\"grass7:r.cost\", {'input':'[friction surface file path]','start_coordinates':None,'stop_coordinates':None,'-k':False,'-n':True,'start_points':'[urban centroid file path]','stop_points':None,'start_raster':None,'max_cost':None,'null_cost':None,'memory':5000,'output':'C:/Users/samja/Documents/cumulat_cost.tif','nearest':'C:/Users/samja/Documents/alloca_map.tif','outdir':'C:/Users/samja/Documents/moveme_dir.tif','GRASS_REGION_PARAMETER':None,'GRASS_REGION_CELLSIZE_PARAMETER':0,'GRASS_RASTER_FORMAT_OPT':'','GRASS_RASTER_FORMAT_META':'','GRASS_SNAP_TOLERANCE_PARAMETER':-1,'GRASS_MIN_AREA_PARAMETER':0.0001})"
   ]
  },
  {
   "cell_type": "markdown",
   "metadata": {},
   "source": [
    "---\n",
    "---\n",
    "---"
   ]
  }
 ],
 "metadata": {
  "kernelspec": {
   "display_name": "Python 3",
   "language": "python",
   "name": "python3"
  },
  "language_info": {
   "codemirror_mode": {
    "name": "ipython",
    "version": 3
   },
   "file_extension": ".py",
   "mimetype": "text/x-python",
   "name": "python",
   "nbconvert_exporter": "python",
   "pygments_lexer": "ipython3",
   "version": "3.12.3"
  }
 },
 "nbformat": 4,
 "nbformat_minor": 2
}
